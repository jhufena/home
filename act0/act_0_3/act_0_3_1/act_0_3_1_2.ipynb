{
 "cells": [
  {
   "cell_type": "markdown",
   "metadata": {},
   "source": [
    "\n",
    "1. **Introduction**:\n",
    "   - [Project](https://github.com/jhurepos/projectalpha/blob/main/seasons_projectalpha_0/seasons.docx) led by Andrew, studying seasonality of kidney donation in the U.S.\n",
    "   - Examining implications and reversal of donor decline.\n",
    "\n",
    "2. **Background**:\n",
    "   - Observed decline in kidney donors.\n",
    "   - No identified factors [explaining/controling](./../../../act_1/act_1_0/act_1_0_0/act_1_0_0_1.ipynb) the decline.\n",
    "\n",
    "3. **Objectives**:\n",
    "   - Investigate seasonality (hierarchical data) and factors (mixed effects) contributing to it in kidney donation.\n",
    "\n",
    "4. **Methodology**:\n",
    "   - [Revamp entire analysis](./act_0_0_3_4.ipynb) using `group-level and individual-level predictors`.\n",
    "   - This gives preliminary Stata and R code for the analysis.\n",
    "   - Andrew may now trouble-shoot the code provided by GPT-4 and make necessary changes.\n",
    "\n",
    "6. **Results**:\n",
    "   - Identification of summer surge in donations from 1990-2019. [See](./act_0_0_3_4.ipynb) back-of-the-envelope calculations.\n",
    "\n",
    "7. **Discussion**:\n",
    "   - Entire paper now focusing on Seasons rather than months.\n",
    "   - We have sufficient power to detect seasonality in kidney donation for related donors.\n",
    "   - For unrelated donors the power is low, but we believe that the seasonality is there.\n",
    "   - **Remark: This is the first-ever identified modifiable factor for kidney donation.**\n",
    "\n",
    "8. **Current Status**:\n",
    "   - Andrew to reconcile last 3 seasons.docx commits in next commit.\n",
    "   - We have decided on the final figures for the paper.\n",
    "   - Every aspect of the analysis should be restricted to 1990-2019 data\n",
    "\n",
    "9. **Next Steps**:\n",
    "   - Regressions including group-level and individual-level predictors coming...\n",
    "\n",
    "10. **Remark**:\n",
    "   - Andrew will have to update his R script to accomodate issues raised in the [revamped analysis](./act_0_3_1_3.ipynb).\n",
    "   - [Chapter 2](./../../../act1/act_1_0/act_1_0_2.ipynb) of this platform will be helpful in understanding the new approach.\n",
    "\n",
    "11. **Version history**:\n",
    "   - Please don't be afraid of making extensive comments to a version or even a mistake.\n",
    "   - We can always revert to a previous version if needed :)\n",
    "\n"
   ]
  }
 ],
 "metadata": {
  "language_info": {
   "name": "python"
  },
  "orig_nbformat": 4
 },
 "nbformat": 4,
 "nbformat_minor": 2
}
