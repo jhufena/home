{
 "cells": [
  {
   "cell_type": "markdown",
   "metadata": {},
   "source": [
    "<Details>\n",
    "  <Summary>Overview</Summary>\n",
    "  \n",
    "The [Project](https://github.com/jhurepos/projectgamma/tree/main/act_1) investigates a critical area of concern in the field of organ transplantation, particularly for live kidney donors (LKDs). It delves into long-term risks that are often `overlooked due to the limited mandated follow-up period`.\n",
    "\n",
    "In terms of methodology, the use of a multicenter retrospective cohort design adds robustness to the findings, and the long period of follow-up (20 years) provides a comprehensive look at post-donation adverse events, enhancing the generalizability of the results.\n",
    "\n",
    "Findings related to the factors that predict all-cause hospitalization, such as age at donation, female sex, and post-donation diabetes/hypertension, are noteworthy. These risk factors can help inform screening and **long-term follow-up strategies** for LKDs, possibly mitigating some of these risks. It also underscores the need for extended surveillance, particularly in donors with diabetes and hypertension.\n",
    "\n",
    "Here are some additional thoughts and recommendations:\n",
    "\n",
    "</Details>\n",
    "\n",
    "1. **First Authors**: Amy Chang and Mary-Grace Bowring\n",
    "   - Latest [version](https://github.com/jhurepos/projectgamma/tree/main/act_1) of the manuscript<br>\n",
    "<br>\n",
    "\n",
    "2. **Data Validation**: Given that patient factors were primarily self-reported, have you considered validating these against medical records for a subset of the population?\n",
    "  \n",
    "3. **Counterfactual Analysis**: A counterfactual analysis could help estimate what could happen under different conditions (e.g., if they had not donated; ie a healthy nondonor cohort followed for hospitalization over 20 years).\n",
    "\n",
    "4. **Ethical Implications**: Providing this information transparently to prospective donors could be considered an ethical obligation, and the findings could influence informed consent procedures.\n",
    "\n",
    "5. **Implementation into Practice**: These findings could be crucial for policy change, emphasizing the need for extended follow-up for LKDs, possibly even lifetime follow-up for certain high-risk groups (Medicare for donors??).\n",
    "\n",
    "6. **Version Control**: Invite coauthors to use the platform to provide feedback on the [project](https://github.com/jhurepos/projectgamma/tree/main/act_1). Get a GitHub account and do direct commits to the repo. Also include the Stata code for the analysis.\n",
    "\n",
    "\n",
    "\n"
   ]
  }
 ],
 "metadata": {
  "language_info": {
   "name": "python"
  },
  "orig_nbformat": 4
 },
 "nbformat": 4,
 "nbformat_minor": 2
}
