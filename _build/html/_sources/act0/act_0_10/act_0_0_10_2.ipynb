{
 "cells": [
  {
   "cell_type": "markdown",
   "metadata": {},
   "source": [
    "1. 6-month post-donation prediction of creatinine clearance\n",
    "2. Donor Voices on Living Kidney Donor Evaluation Using Telemedicine: A Qualitative Study\n",
    "3. Kidney Function After Living Kidney Donation \n",
    "4. Jones CA, McQuillan GM, Kusek JW, et al. Serum creatinine levels in the US population: third National Health and Nutrition Examination Survey. Am J Kidney Dis. 1998;32(6):992–999 (`consider updating with newer data`)\n"
   ]
  }
 ],
 "metadata": {
  "kernelspec": {
   "display_name": "Python 3",
   "language": "python",
   "name": "python3"
  },
  "language_info": {
   "codemirror_mode": {
    "name": "ipython",
    "version": 3
   },
   "file_extension": ".py",
   "mimetype": "text/x-python",
   "name": "python",
   "nbconvert_exporter": "python",
   "pygments_lexer": "ipython3",
   "version": "3.11.2"
  },
  "orig_nbformat": 4
 },
 "nbformat": 4,
 "nbformat_minor": 2
}
