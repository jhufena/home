{
 "cells": [
  {
   "cell_type": "markdown",
   "metadata": {},
   "source": [
    "1. Survival analysis in R\n",
    "2. Competing risks in SAS and R\n",
    "3. [Hospitalization following donor nephrectomy](./act_0_3_2_3.ipynb)"
   ]
  }
 ],
 "metadata": {
  "language_info": {
   "name": "python"
  },
  "orig_nbformat": 4
 },
 "nbformat": 4,
 "nbformat_minor": 2
}
