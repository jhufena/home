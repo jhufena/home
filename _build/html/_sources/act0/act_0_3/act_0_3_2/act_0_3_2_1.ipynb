{
 "cells": [
  {
   "cell_type": "markdown",
   "metadata": {},
   "source": [
    "#\n",
    "\n",
    "\n",
    "TRC-Data analysts \n",
    "1. Private team of 17 (should it be private?)\n",
    "2. A platform to log your projects, code, data sources\n",
    "3. Touch base with team on project updates \n",
    "4. Methods, questions, concerns\n",
    "5. Bi-weekly meetings\n",
    "\n",
    "---\n",
    "\n",
    "1. Why not public?\n",
    "2. GitHub for version control of shared code & documents?\n",
    "3. Microsoft Teams for communication?\n",
    "4. Expansive to include non-TRC members\n",
    "5. Control who can see what"
   ]
  }
 ],
 "metadata": {
  "kernelspec": {
   "display_name": "Python 3",
   "language": "python",
   "name": "python3"
  },
  "language_info": {
   "codemirror_mode": {
    "name": "ipython",
    "version": 3
   },
   "file_extension": ".py",
   "mimetype": "text/x-python",
   "name": "python",
   "nbconvert_exporter": "python",
   "pygments_lexer": "ipython3",
   "version": "3.11.4"
  },
  "orig_nbformat": 4
 },
 "nbformat": 4,
 "nbformat_minor": 2
}
