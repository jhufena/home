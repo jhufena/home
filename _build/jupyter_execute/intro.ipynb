{
 "cells": [
  {
   "cell_type": "markdown",
   "metadata": {},
   "source": [
    "# Welcome to Fena\n",
    "\n",
    "Life in clinical research is a series of challenges. Some are big and require real determination, while others are smaller, everyday hurdles. At [Fena](https://github.com/jhufena/discussions/discussions/1), we don't just recognize these challenges; we see them as opportunities for growth, innovation, and triumph.\n",
    "\n",
    "**[Continue Your Journey ...](./preface.ipynb)**\n",
    "\n",
    "---\n",
    "\n",
    "*Yaffe ffena[.](https://www.youtube.com/watch?v=4GuMQXRl0_0)*  \n",
    "*我们同舟共济*    \n",
    "*نحن جميعاً معاً*        \n",
    "*כולנו בזה ביחד*    \n",
    "*एक ही नाव में*      \n",
    "*Todos estamos en el mismo barco*   \n",
    "*Nous sommes tous dans le même bateau*     \n",
    "*Wir sitzen alle im selben Boot*      \n",
    "*Siamo tutti nella stessa barca*     \n",
    "*Estamos todos no mesmo barco*   \n",
    "*We zitten allemaal in hetzelfde schuitje*     \n",
    "*Мы все в одной лодке*            \n",
    "*ما همه در یک قایق هستیم*         \n",
    "*皆で同じ船に乗っている*        \n",
    "*Sote tuko kwenye chombo kimoja*   \n",
    "*Sisonke kule ndawo*   \n",
    "*Awa gbogbo wọ́ l’ọkọ̀ kan*   \n",
    "*Anyị nile nọ n’ụgbọ mmiri otu*   \n",
    "*우리는 모두 같은 배에 타고 있다*    \n",
    "*Olemme kaikki samassa veneessä*     \n",
    "*እኛ ሁሉም በአንድ ጀልባ ውስጥ ነን*    \n",
    "*Hinqabu fi hinqabu jechuun if bira jiraanne*   \n",
    "*ኩሉና ኣብ አንድ ድሕሪ እዩና*   \n",
    "*અમે બધા એવું જ વાંડો છીએ* \n"
   ]
  }
 ],
 "metadata": {
  "kernelspec": {
   "display_name": "myenv",
   "language": "python",
   "name": "python3"
  },
  "language_info": {
   "codemirror_mode": {
    "name": "ipython",
    "version": 3
   },
   "file_extension": ".py",
   "mimetype": "text/x-python",
   "name": "python",
   "nbconvert_exporter": "python",
   "pygments_lexer": "ipython3",
   "version": "3.11.4"
  }
 },
 "nbformat": 4,
 "nbformat_minor": 2
}