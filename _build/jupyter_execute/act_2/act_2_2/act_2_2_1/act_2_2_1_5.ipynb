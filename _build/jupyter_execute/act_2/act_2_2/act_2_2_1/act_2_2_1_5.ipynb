{
 "cells": [
  {
   "cell_type": "markdown",
   "metadata": {},
   "source": [
    "# 8. Twoway \n",
    "\n",
    "## $\\rho$\n",
    "\n",
    " "
   ]
  }
 ],
 "metadata": {
  "language_info": {
   "name": "python"
  }
 },
 "nbformat": 4,
 "nbformat_minor": 2
}