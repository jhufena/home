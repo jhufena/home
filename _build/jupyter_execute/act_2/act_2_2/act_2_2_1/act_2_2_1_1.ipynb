{
 "cells": [
  {
   "cell_type": "markdown",
   "metadata": {},
   "source": [
    "# Hierarchical\n",
    "\n",
    "## $\\tau^2$\n",
    "\n"
   ]
  }
 ],
 "metadata": {
  "language_info": {
   "name": "python"
  }
 },
 "nbformat": 4,
 "nbformat_minor": 2
}