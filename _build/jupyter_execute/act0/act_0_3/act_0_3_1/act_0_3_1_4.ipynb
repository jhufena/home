{
 "cells": [
  {
   "cell_type": "markdown",
   "metadata": {},
   "source": [
    "1. Prevalence odds of hyperlipidemia from multivariable logistic regression\n",
    "2. Careful definition of a base-case and some clinical scenarios for manuscript\n",
    "3. Online risk calculator for user-defined phenotype and prevalence odds estimation\n",
    "4. NHANES as control population with same phenotype for all but immunological deficiency"
   ]
  }
 ],
 "metadata": {
  "language_info": {
   "name": "python"
  }
 },
 "nbformat": 4,
 "nbformat_minor": 2
}