{
 "cells": [
  {
   "cell_type": "markdown",
   "metadata": {},
   "source": [
    "1. [Project](https://github.com/jhurepos/egfr6m): Kidney Function Prediction for Individuals Consider Living Kidney Donation\n",
    "2. Lead: Fawaz\n",
    "3. Background: Individuals who donate a kidney lose 50% of their nephron mass. Kidney reserve capacity varies by individual characteristics. Reduced 6-month post-donation creatinine-based estimated glomerular filtration rate (eGFRcr) is associated with increased long-term risk of kidney failure. We sought to inform the individual predicted 6-month post-donation creatinine and expected eGFRcr using the race-free CKD-EPI 2021."
   ]
  }
 ],
 "metadata": {
  "kernelspec": {
   "display_name": "Python 3",
   "language": "python",
   "name": "python3"
  },
  "language_info": {
   "codemirror_mode": {
    "name": "ipython",
    "version": 3
   },
   "file_extension": ".py",
   "mimetype": "text/x-python",
   "name": "python",
   "nbconvert_exporter": "python",
   "pygments_lexer": "ipython3",
   "version": "3.11.2"
  }
 },
 "nbformat": 4,
 "nbformat_minor": 2
}