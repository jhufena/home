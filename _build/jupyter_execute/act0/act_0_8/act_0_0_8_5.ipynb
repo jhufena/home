{
 "cells": [
  {
   "cell_type": "markdown",
   "metadata": {},
   "source": [
    "1. [Visualizing longitudinal data that are innately on different scales](./act_0_0_8_6.ipynb)"
   ]
  }
 ],
 "metadata": {
  "language_info": {
   "name": "python"
  }
 },
 "nbformat": 4,
 "nbformat_minor": 2
}