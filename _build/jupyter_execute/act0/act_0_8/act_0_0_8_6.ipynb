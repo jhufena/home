{
 "cells": [
  {
   "cell_type": "markdown",
   "metadata": {},
   "source": [
    "# \n",
    "\n",
    "# 1\n",
    "\n",
    "```stata\n",
    "\n",
    "foreach v in sppb_total pfs_reverse pfsm_reverse koos_pain koos_sym koos_rec koos_func koos_qual {\n",
    "    // Calculate SD for each variable at Baseline_A\n",
    "    egen temp = sd(`v') if Visit == \"1.Baseline_A\"\n",
    "    egen sd_base_`v' = min(temp)\n",
    "    drop temp\n",
    "    \n",
    "    // Calculate mean for each variable at Baseline_A\n",
    "    egen temp = mean(`v') if Visit == \"1.Baseline_A\"\n",
    "    egen mean_base_`v' = min(temp)\n",
    "    drop temp\n",
    "}\n",
    "\n",
    "foreach v in sppb_total pfs_reverse pfsm_reverse koos_pain koos_sym koos_rec koos_func koos_qual {\n",
    "    // Sort by record_id and Visit, then generate change score\n",
    "    sort record_id Visit\n",
    "    by record_id: gen change_`v' = ((`v'-`v'[1]) / sd_base_`v')\n",
    "}\n",
    "\n",
    "// Standardize variables\n",
    "foreach v in sppb_total pfs_reverse pfsm_reverse koos_pain koos_sym koos_rec koos_func koos_qual {\n",
    "    gen std_`v' = (`v'-mean_base_`v') / sd_base_`v'\n",
    "}\n",
    "\n",
    "\n",
    "```\n",
    "\n",
    "# 2\n",
    "\n",
    "- Can't share the data to test this code for issues of privacy\n",
    "- [Simulating](https://github.com/jhurepos/simulate) the underlying hierarchical data might help overcome this\n",
    "- Let's discuss the underlying structure to aid simulation\n",
    "\n"
   ]
  }
 ],
 "metadata": {
  "language_info": {
   "name": "python"
  }
 },
 "nbformat": 4,
 "nbformat_minor": 2
}