{
 "cells": [
  {
   "cell_type": "markdown",
   "metadata": {},
   "source": [
    "1. [Seasonal variations in living kidney donation in the United States 1990-2019](./act_0_3_1_2.ipynb)\n",
    "2. Risk of ESRD in older related living kidney donors\n",
    "3. [Hyperlipedia in Pediatric type-II diabetes](./act_0_3_1_4.ipynb)"
   ]
  }
 ],
 "metadata": {
  "language_info": {
   "name": "python"
  },
  "orig_nbformat": 4
 },
 "nbformat": 4,
 "nbformat_minor": 2
}
