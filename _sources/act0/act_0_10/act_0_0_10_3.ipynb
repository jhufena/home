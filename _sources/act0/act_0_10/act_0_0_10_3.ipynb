{
 "cells": [
  {
   "cell_type": "markdown",
   "metadata": {},
   "source": [
    "Developing webApp for the project\n",
    "\n",
    "1. Regression\n",
    "2. Coefficient and Var-Covar Matrix\n",
    "3. \n",
    "4. [Build](./act_0_0_10_4.ipynb) automated shell script: `cp -R /tmp/localhost:4567/* .`"
   ]
  }
 ],
 "metadata": {
  "kernelspec": {
   "display_name": "Python 3",
   "language": "python",
   "name": "python3"
  },
  "language_info": {
   "codemirror_mode": {
    "name": "ipython",
    "version": 3
   },
   "file_extension": ".py",
   "mimetype": "text/x-python",
   "name": "python",
   "nbconvert_exporter": "python",
   "pygments_lexer": "ipython3",
   "version": "3.11.2"
  },
  "orig_nbformat": 4
 },
 "nbformat": 4,
 "nbformat_minor": 2
}
